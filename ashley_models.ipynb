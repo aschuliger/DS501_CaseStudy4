{
 "cells": [
  {
   "cell_type": "code",
   "execution_count": 1,
   "metadata": {},
   "outputs": [],
   "source": [
    "# imports\n",
    "import pandas as pd\n",
    "import numpy as np\n",
    "from sklearn.model_selection import train_test_split, cross_val_score\n",
    "from sklearn.svm import SVC\n",
    "import cleaner\n",
    "import preprocesser\n",
    "import trainer"
   ]
  },
  {
   "cell_type": "markdown",
   "metadata": {},
   "source": [
    "Specific Accepted Campaign Models"
   ]
  },
  {
   "cell_type": "code",
   "execution_count": 2,
   "metadata": {},
   "outputs": [
    {
     "name": "stderr",
     "output_type": "stream",
     "text": [
      "c:\\Users\\volle\\Documents\\College\\Courses\\Senior\\Introduction to Data Science\\CaseStudy_4\\cleaner.py:28: SettingWithCopyWarning: \n",
      "A value is trying to be set on a copy of a slice from a DataFrame.\n",
      "Try using .loc[row_indexer,col_indexer] = value instead\n",
      "\n",
      "See the caveats in the documentation: https://pandas.pydata.org/pandas-docs/stable/user_guide/indexing.html#returning-a-view-versus-a-copy\n",
      "  data[col] = (data[col] - _min) / (_max - _min)\n"
     ]
    }
   ],
   "source": [
    "# Feature Engineering:\n",
    "# For our target variable, we chose to combine the promotion columns into one feature in which\n",
    "# 0 represents if the customer did not accept the promotion, 1-6 represents if the customer did \n",
    "# accept the promotion on the respective campaign.\n",
    "\n",
    "marketing_data = pd.read_csv(\"marketing_campaign.csv\", delimiter=\"\\t\")\n",
    "marketing_data = marketing_data.dropna()\n",
    "\n",
    "marketing_data = cleaner.clean(marketing_data)\n",
    "\n",
    "campaign_accepted = np.repeat(0, len(marketing_data))\n",
    "campaign_accepted[marketing_data[\"Response\"] == 1] = 6\n",
    "\n",
    "for i in range(5,0,-1):\n",
    "    column_name = \"AcceptedCmp\" + str(i)\n",
    "    campaign_accepted[marketing_data[column_name] == 1] = i\n",
    "\n",
    "marketing_data.drop(columns=[\"AcceptedCmp1\", \"AcceptedCmp2\", \"AcceptedCmp3\", \"AcceptedCmp4\", \"AcceptedCmp5\", \"Response\"], inplace=True)\n",
    "marketing_data[\"CampaignAccepted\"] = campaign_accepted"
   ]
  },
  {
   "cell_type": "code",
   "execution_count": 3,
   "metadata": {},
   "outputs": [],
   "source": [
    "marketing_data = preprocesser.convert_marital_status(marketing_data)\n",
    "marketing_data = preprocesser.convert_education(marketing_data)"
   ]
  },
  {
   "cell_type": "code",
   "execution_count": 5,
   "metadata": {},
   "outputs": [],
   "source": [
    "campaign_data = marketing_data[marketing_data[\"CampaignAccepted\"] != 0]\n",
    "feature_columns = [col for col in campaign_data.columns if col not in [\"ID\", \"CampaignAccepted\", \"Dt_Customer\"]]\n",
    "x_data = campaign_data[feature_columns]\n",
    "y_data = campaign_data[\"CampaignAccepted\"]\n",
    "\n",
    "train_x, test_x, train_y, test_y = train_test_split(x_data, y_data)\n"
   ]
  },
  {
   "cell_type": "code",
   "execution_count": 6,
   "metadata": {},
   "outputs": [
    {
     "name": "stdout",
     "output_type": "stream",
     "text": [
      "Specific Campaign Accepted: All Spending Values\n",
      "Average Validation Score: 0.43\n",
      "Support Vector Machine Test Accuracy: 0.40397350993377484\n"
     ]
    }
   ],
   "source": [
    "print(\"Specific Campaign Accepted: All Spending Values\")\n",
    "svc_model = SVC()\n",
    "best_model = trainer.perform_cross_validation(svc_model, train_x, train_y)\n",
    "svc_predictions = best_model.predict(test_x)\n",
    "svc_accuracy = trainer.calculate_accuracy(svc_predictions, test_y)\n",
    "print(\"Support Vector Machine Test Accuracy: \" + str(svc_accuracy))"
   ]
  },
  {
   "cell_type": "markdown",
   "metadata": {},
   "source": [
    "Accepted a Campaign or Not"
   ]
  },
  {
   "cell_type": "code",
   "execution_count": 7,
   "metadata": {},
   "outputs": [],
   "source": [
    "accepted_campaign = marketing_data.copy(deep=True)\n",
    "campaign = accepted_campaign.copy(deep=True)[\"CampaignAccepted\"]\n",
    "campaign[campaign != 0] = 1\n",
    "accepted_campaign[\"CampaignAccepted\"] = campaign"
   ]
  },
  {
   "cell_type": "code",
   "execution_count": 8,
   "metadata": {},
   "outputs": [
    {
     "name": "stdout",
     "output_type": "stream",
     "text": [
      "Campaign Accepted or Not: All Spending Values\n",
      "Average Validation Score: 0.76\n",
      "Support Vector Machine Test Accuracy: 0.7522603978300181\n"
     ]
    }
   ],
   "source": [
    "feature_columns = [col for col in accepted_campaign.columns if col not in [\"ID\", \"CampaignAccepted\", \"Dt_Customer\"]]\n",
    "x_data = accepted_campaign[feature_columns]\n",
    "y_data = accepted_campaign[\"CampaignAccepted\"]\n",
    "\n",
    "train_x, test_x, train_y, test_y = train_test_split(x_data, y_data)\n",
    "\n",
    "print(\"Campaign Accepted or Not: All Spending Values\")\n",
    "svc_model = SVC()\n",
    "best_model = trainer.perform_cross_validation(svc_model, train_x, train_y)\n",
    "svc_predictions = best_model.predict(test_x)\n",
    "svc_accuracy = trainer.calculate_accuracy(svc_predictions, test_y)\n",
    "print(\"Support Vector Machine Test Accuracy: \" + str(svc_accuracy))"
   ]
  },
  {
   "cell_type": "markdown",
   "metadata": {},
   "source": []
  },
  {
   "cell_type": "code",
   "execution_count": 9,
   "metadata": {},
   "outputs": [
    {
     "name": "stdout",
     "output_type": "stream",
     "text": [
      "Specific Campaign Accepted: Total Spending\n",
      "Average Validation Score: 0.39\n",
      "Support Vector Machine Test Accuracy: 0.3973509933774834\n"
     ]
    }
   ],
   "source": [
    "marketing_data = preprocesser.create_spending(marketing_data)\n",
    "campaign_data = marketing_data[marketing_data[\"CampaignAccepted\"] != 0]\n",
    "feature_columns = [col for col in campaign_data.columns if col not in [\"ID\", \"CampaignAccepted\", \"Dt_Customer\"]]\n",
    "x_data = campaign_data[feature_columns]\n",
    "y_data = campaign_data[\"CampaignAccepted\"]\n",
    "\n",
    "train_x, test_x, train_y, test_y = train_test_split(x_data, y_data)\n",
    "\n",
    "print(\"Specific Campaign Accepted: Total Spending\")\n",
    "svc_model = SVC()\n",
    "best_model = trainer.perform_cross_validation(svc_model, train_x, train_y)\n",
    "svc_predictions = best_model.predict(test_x)\n",
    "svc_accuracy = trainer.calculate_accuracy(svc_predictions, test_y)\n",
    "print(\"Support Vector Machine Test Accuracy: \" + str(svc_accuracy))"
   ]
  },
  {
   "cell_type": "code",
   "execution_count": 10,
   "metadata": {},
   "outputs": [],
   "source": [
    "accepted_campaign = preprocesser.create_spending(accepted_campaign)\n",
    "feature_columns = [col for col in accepted_campaign.columns if col not in [\"ID\", \"CampaignAccepted\", \"Dt_Customer\"]]\n",
    "x_data = accepted_campaign[feature_columns]\n",
    "y_data = accepted_campaign[\"CampaignAccepted\"]\n",
    "\n",
    "train_x, test_x, train_y, test_y = train_test_split(x_data, y_data)"
   ]
  },
  {
   "cell_type": "code",
   "execution_count": 11,
   "metadata": {},
   "outputs": [
    {
     "name": "stdout",
     "output_type": "stream",
     "text": [
      "Campaign Accepted or Not: Total Spending\n",
      "Average Validation Score: 0.75\n",
      "Support Vector Machine Test Accuracy: 0.7739602169981917\n"
     ]
    }
   ],
   "source": [
    "print(\"Campaign Accepted or Not: Total Spending\")\n",
    "svc_model = SVC(probability=True)\n",
    "best_model = trainer.perform_cross_validation(svc_model, train_x, train_y)\n",
    "svc_predictions = best_model.predict(test_x)\n",
    "svc_accuracy = trainer.calculate_accuracy(svc_predictions, test_y)\n",
    "print(\"Support Vector Machine Test Accuracy: \" + str(svc_accuracy))\n"
   ]
  }
 ],
 "metadata": {
  "interpreter": {
   "hash": "dda296041a5c4595916cf798e6f60932ef22684b2df31e487f17abf37f31ed62"
  },
  "kernelspec": {
   "display_name": "Python 3.8.5 64-bit ('py38': conda)",
   "language": "python",
   "name": "python3"
  },
  "language_info": {
   "codemirror_mode": {
    "name": "ipython",
    "version": 3
   },
   "file_extension": ".py",
   "mimetype": "text/x-python",
   "name": "python",
   "nbconvert_exporter": "python",
   "pygments_lexer": "ipython3",
   "version": "3.8.5"
  },
  "orig_nbformat": 4
 },
 "nbformat": 4,
 "nbformat_minor": 2
}
